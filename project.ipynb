{
 "cells": [
  {
   "cell_type": "markdown",
   "metadata": {},
   "source": [
    "# Fundamentals of Data Analysis Project\n",
    "\n",
    "** Audrey Allen **\n",
    "\n",
    "## 1 Introduction project\n",
    "======\n",
    "### ***Problem Statement***\n",
    "\n",
    "\n",
    "1. The project is to create a notebook investigating the variables and data points within the well-known iris flower data set associated with Ronald A Fisher. \n",
    "2. In the notebook, you should discuss the classification of each variable within the data set according to common  variable types and scales of measurement in mathematics, statistics, and Python. \n",
    "3. Select, demonstrate, and explain the most appropriate summary statistics to describe each variable \n",
    "4. Select, demonstrate, and explain the most appropriate plot(s) for each variable.\n",
    "5. The notebook should follow a cohesive narrative about the data set.\n",
    "\n",
    "\n",
    "I am going to be analysing the very famous dataset called the Iris dataset. The iris dataset was created by the British statistician and biologist Ronald Fisher. The dataset contains four features (length and width of sepals and petals) of 50 samples of three species of Iris (Iris Setosa, Iris Virginica and Iris Versicolor).\t\n",
    "I am going to be using python code and explanations of this code to discuss this dataset. The explanations and analyses will be in my README file with code examples. The name of my README file is READMEProject.ipynb. Python pandas will be used as Pandas has many functions that can help analyse this dataset. There will be many other functions and libraries within Python that I will be using in order to show my findings in this project.  I will be discussing these later on.\n",
    "I will be doing my analysis in VSCode but using jupyter notebooks.\n",
    "This assignment will  investigate the whole dataset using many different Python functions. \n",
    "I am going to start by summarising the variables and descriptive statistics related to them. I will then present some insights about this dataset using a number of graphs. \t\n",
    "I am going to be using Visual Studio Code to write my python code and readme files. \n",
    "The name of my project notebook is project.ipynb. \n",
    "I hope my analysis of this dataset will help give me more insight and knowledge of python and also machine learning.\n",
    "\n",
    "\n",
    "\n",
    "## 2 Software needed to run the project \n",
    "======\n",
    "\n",
    "-\tVisual Studio Code\n",
    "-\tPython 3\n",
    "-\tGithub - https://github.com/AudeAllen/Pands-Project.git\n",
    "\n",
    "How to run Python code - \n",
    "- Jupyter Notebook file is called project.ipynb\n",
    "- To run project.ipynb go into Visual studio code > In the notebook there are a number of options > To run the contents of the notebook click on 'Run All' > \n",
    "- This will run all the Markdown files and python scripts and create all the graphs and visual aids for this project\n",
    "- I have uploaded all of my project files to my github respository.  Git is a version control system that I use in this project.\n",
    "- My git address is https://github.com/AudeAllen/Fundamentals-of-Data-Analysis---Tasks-and-Project.git\n",
    "\n",
    "The below libraries/packages were imported to aid analysis on the dataset\n",
    "- import numpy as np - numpy is a package for scientific computing in python  \n",
    "- import pandas as pd - python package that is used for data analysis\n",
    "- import matplotlib.pyplot as plt - data visualisation tool \n",
    "- import seaborn as sns - data visualisation tool\n",
    "\n",
    "\n",
    "## 3 Background on the Iris Dataset \n",
    "======\n",
    "\n",
    "There is a lot of information and analyses done on the Iris dataset. The British statistician Ronald Fisher published the dataset in 1936.\n",
    "As mentioned in my introduction iris dataset gives the measurements in centimeters of the variables sepal length and width and petal length and width, respectively, for 50 flowers from each of 3 species of iris. The species are Iris setosa, versicolor, and virginica. \t\n",
    "This dataset is a simple dataset which contains 5 variables and thus I can demonstrate my knowledge of many data science concepts using python and other tools.\n",
    "In this project we will see various features of the dataset including data distribution, correlations between certain features and the presence of outliers.\n",
    "What we will see from my analysis is that one species of iris (Iris Setosa) is linearly separable from the other two. The other two classes are not linearly separable. Linearly separable applies to a set of points. Two sets are said to be linearly separable if a line can be drawn that separates the points such that a set points is on one side of the line and another set of points is on the other side of the line.\n",
    "\n",
    "I am going to be discussing the classification of each variable type and discussing the most appropriate summary statistics to describe each variable. Lastly I will be looking at the most appropriate plots for each variable.\n",
    "See pictures of each species of flower below.\n",
    "![image](https://user-images.githubusercontent.com/123590406/232835878-5c2764b0-5fec-416c-a7ac-4b81166d4d32.png)\n",
    "\n",
    "## 4 Classification of Variables\n",
    "\n",
    "In this notebook, I will discuss the classification of each variable within the data set according to common variable types and scales of measurement in mathematics, statistics, and Python. \n",
    "\n",
    " \t\n",
    "\n",
    "\n"
   ]
  },
  {
   "cell_type": "markdown",
   "metadata": {},
   "source": [
    "** End **"
   ]
  }
 ],
 "metadata": {
  "kernelspec": {
   "display_name": "base",
   "language": "python",
   "name": "python3"
  },
  "language_info": {
   "codemirror_mode": {
    "name": "ipython",
    "version": 3
   },
   "file_extension": ".py",
   "mimetype": "text/x-python",
   "name": "python",
   "nbconvert_exporter": "python",
   "pygments_lexer": "ipython3",
   "version": "3.11.4"
  },
  "orig_nbformat": 4
 },
 "nbformat": 4,
 "nbformat_minor": 2
}
